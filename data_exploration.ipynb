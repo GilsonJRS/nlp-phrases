{
 "cells": [
  {
   "cell_type": "code",
   "execution_count": 1,
   "id": "907d00b9",
   "metadata": {},
   "outputs": [],
   "source": [
    "import pandas as pd"
   ]
  },
  {
   "cell_type": "code",
   "execution_count": 2,
   "id": "91f0b995",
   "metadata": {},
   "outputs": [],
   "source": [
    "data = pd.read_csv(\"./data/dataset.csv\")"
   ]
  },
  {
   "cell_type": "markdown",
   "id": "e75fcaed",
   "metadata": {},
   "source": [
    "data"
   ]
  },
  {
   "cell_type": "markdown",
   "id": "c41a6f09",
   "metadata": {},
   "source": [
    "# Exploring text and labels"
   ]
  },
  {
   "cell_type": "markdown",
   "id": "ecc0c186",
   "metadata": {},
   "source": [
    "print(data.category.value_counts(), '\\n')"
   ]
  }
 ],
 "metadata": {
  "kernelspec": {
   "display_name": "Python 3 (ipykernel)",
   "language": "python",
   "name": "python3"
  },
  "language_info": {
   "codemirror_mode": {
    "name": "ipython",
    "version": 3
   },
   "file_extension": ".py",
   "mimetype": "text/x-python",
   "name": "python",
   "nbconvert_exporter": "python",
   "pygments_lexer": "ipython3",
   "version": "3.10.6"
  }
 },
 "nbformat": 4,
 "nbformat_minor": 5
}
